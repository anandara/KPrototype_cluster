{
 "cells": [
  {
   "cell_type": "markdown",
   "metadata": {},
   "source": [
    "#import packages\n",
    "\n"
   ]
  },
  {
   "cell_type": "code",
   "execution_count": 2,
   "metadata": {},
   "outputs": [],
   "source": [
    "'''https://medium.com/datadriveninvestor/k-prototype-in-clustering-mixed-attributes-e6907db91914\n",
    "'''\n",
    "import numpy as np\n",
    "from kmodes.kprototypes import KPrototypes\n",
    "import matplotlib.pyplot as plt\n",
    "from matplotlib import style\n",
    "#you may get Kprototype package not found so please install pip install kmodes"
   ]
  },
  {
   "cell_type": "code",
   "execution_count": 3,
   "metadata": {},
   "outputs": [],
   "source": [
    "style.use(\"ggplot\")\n",
    "colors = ['b', 'orange', 'g', 'r', 'c', 'm', 'y', 'k', 'Brown', 'ForestGreen']"
   ]
  },
  {
   "cell_type": "code",
   "execution_count": 4,
   "metadata": {},
   "outputs": [],
   "source": [
    "#Data points with their publisher name,category score, category name, place name\n",
    "syms = np.genfromtxt('travel.csv', dtype=str, delimiter=',')[:, 1]\n",
    "X = np.genfromtxt('travel.csv', dtype=object, delimiter=',')[:, 2:]\n",
    "X[:, 0] = X[:, 0].astype(float)"
   ]
  },
  {
   "cell_type": "code",
   "execution_count": 10,
   "metadata": {},
   "outputs": [
    {
     "data": {
      "text/plain": [
       "array([[0.59375, b'plant', b'No Data'],\n",
       "       [0.04296875, b'outdoor_', b'No Data'],\n",
       "       [0.26953125, b'outdoor_road', b'No Data'],\n",
       "       [0.98046875, b'outdoor_mountain', b'Manigala Mountain'],\n",
       "       [0.96484375, b'outdoor_mountain', b'Adara Kanda']], dtype=object)"
      ]
     },
     "execution_count": 10,
     "metadata": {},
     "output_type": "execute_result"
    }
   ],
   "source": [
    "X[0:5]"
   ]
  },
  {
   "cell_type": "code",
   "execution_count": 14,
   "metadata": {},
   "outputs": [],
   "source": [
    "kproto = KPrototypes(n_clusters=15, init='Cao', verbose=2)\n",
    "#mentioning categorical column while doing fit"
   ]
  },
  {
   "cell_type": "code",
   "execution_count": 18,
   "metadata": {},
   "outputs": [],
   "source": [
    "#clusters = kproto.fit_predict(X.T, categorical=[1, 2])\n"
   ]
  },
  {
   "cell_type": "code",
   "execution_count": 13,
   "metadata": {},
   "outputs": [
    {
     "ename": "AttributeError",
     "evalue": "'{}' object has no attribute 'cluster_centroids_' because the model is not yet fitted.",
     "output_type": "error",
     "traceback": [
      "\u001b[1;31m---------------------------------------------------------------------------\u001b[0m",
      "\u001b[1;31mAttributeError\u001b[0m                            Traceback (most recent call last)",
      "\u001b[1;32m<ipython-input-13-91b8887f4a2e>\u001b[0m in \u001b[0;36m<module>\u001b[1;34m\u001b[0m\n\u001b[0;32m      1\u001b[0m \u001b[1;31m# Print cluster centroids of the trained model.\u001b[0m\u001b[1;33m\u001b[0m\u001b[1;33m\u001b[0m\u001b[1;33m\u001b[0m\u001b[0m\n\u001b[1;32m----> 2\u001b[1;33m \u001b[0mprint\u001b[0m\u001b[1;33m(\u001b[0m\u001b[0mkproto\u001b[0m\u001b[1;33m.\u001b[0m\u001b[0mcluster_centroids_\u001b[0m\u001b[1;33m)\u001b[0m\u001b[1;33m\u001b[0m\u001b[1;33m\u001b[0m\u001b[0m\n\u001b[0m\u001b[0;32m      3\u001b[0m \u001b[1;31m# Print training statistics\u001b[0m\u001b[1;33m\u001b[0m\u001b[1;33m\u001b[0m\u001b[1;33m\u001b[0m\u001b[0m\n\u001b[0;32m      4\u001b[0m \u001b[0mprint\u001b[0m\u001b[1;33m(\u001b[0m\u001b[0mkproto\u001b[0m\u001b[1;33m.\u001b[0m\u001b[0mcost_\u001b[0m\u001b[1;33m)\u001b[0m\u001b[1;33m\u001b[0m\u001b[1;33m\u001b[0m\u001b[0m\n\u001b[0;32m      5\u001b[0m \u001b[0mprint\u001b[0m\u001b[1;33m(\u001b[0m\u001b[0mkproto\u001b[0m\u001b[1;33m.\u001b[0m\u001b[0mn_iter_\u001b[0m\u001b[1;33m)\u001b[0m\u001b[1;33m\u001b[0m\u001b[1;33m\u001b[0m\u001b[0m\n",
      "\u001b[1;32m~\\Anaconda3\\lib\\site-packages\\kmodes\\kprototypes.py\u001b[0m in \u001b[0;36mcluster_centroids_\u001b[1;34m(self)\u001b[0m\n\u001b[0;32m    500\u001b[0m             ]\n\u001b[0;32m    501\u001b[0m         \u001b[1;32melse\u001b[0m\u001b[1;33m:\u001b[0m\u001b[1;33m\u001b[0m\u001b[1;33m\u001b[0m\u001b[0m\n\u001b[1;32m--> 502\u001b[1;33m             raise AttributeError(\"'{}' object has no attribute 'cluster_centroids_' \"\n\u001b[0m\u001b[0;32m    503\u001b[0m                                  \"because the model is not yet fitted.\")\n",
      "\u001b[1;31mAttributeError\u001b[0m: '{}' object has no attribute 'cluster_centroids_' because the model is not yet fitted."
     ]
    }
   ],
   "source": [
    "# Print cluster centroids of the trained model.\n",
    "print(kproto.cluster_centroids_)\n",
    "# Print training statistics\n",
    "print(kproto.cost_)\n",
    "print(kproto.n_iter_)"
   ]
  },
  {
   "cell_type": "code",
   "execution_count": null,
   "metadata": {},
   "outputs": [],
   "source": [
    "for s, c in zip(syms, clusters):\n",
    "    print(\"Result: {}, cluster:{}\".format(s, c))"
   ]
  },
  {
   "cell_type": "code",
   "execution_count": null,
   "metadata": {},
   "outputs": [],
   "source": [
    "# Plot the results\n",
    "for i in set(kproto.labels_):\n",
    "    index = kproto.labels_ == i\n",
    "    plt.plot(X[index, 0], X[index, 1], 'o')\n",
    "    plt.suptitle('Data points categorized with category score', fontsize=18)\n",
    "    plt.xlabel('Category Score', fontsize=16)\n",
    "    plt.ylabel('Category Type', fontsize=16)\n",
    "plt.show()"
   ]
  },
  {
   "cell_type": "code",
   "execution_count": null,
   "metadata": {},
   "outputs": [],
   "source": [
    "# Clustered result\n",
    "fig1, ax3 = plt.subplots()\n",
    "scatter = ax3.scatter(syms, clusters, c=clusters, s=50)\n",
    "ax3.set_xlabel('Data points')\n",
    "ax3.set_ylabel('Cluster')\n",
    "plt.colorbar(scatter)\n",
    "ax3.set_title('Data points classifed according to known centers')\n",
    "plt.show()"
   ]
  },
  {
   "cell_type": "code",
   "execution_count": null,
   "metadata": {},
   "outputs": [],
   "source": [
    "result = zip(syms, kproto.labels_)\n",
    "sortedR = sorted(result, key=lambda x: x[1])\n",
    "print(sortedR)"
   ]
  }
 ],
 "metadata": {
  "kernelspec": {
   "display_name": "Python 3",
   "language": "python",
   "name": "python3"
  },
  "language_info": {
   "codemirror_mode": {
    "name": "ipython",
    "version": 3
   },
   "file_extension": ".py",
   "mimetype": "text/x-python",
   "name": "python",
   "nbconvert_exporter": "python",
   "pygments_lexer": "ipython3",
   "version": "3.7.3"
  }
 },
 "nbformat": 4,
 "nbformat_minor": 2
}
